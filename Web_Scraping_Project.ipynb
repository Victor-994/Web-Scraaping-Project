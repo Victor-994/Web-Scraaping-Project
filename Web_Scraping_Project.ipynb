{
  "nbformat": 4,
  "nbformat_minor": 0,
  "metadata": {
    "kernelspec": {
      "display_name": "Python 3",
      "language": "python",
      "name": "python3"
    },
    "language_info": {
      "codemirror_mode": {
        "name": "ipython",
        "version": 3
      },
      "file_extension": ".py",
      "mimetype": "text/x-python",
      "name": "python",
      "nbconvert_exporter": "python",
      "pygments_lexer": "ipython3",
      "version": "3.7.6"
    },
    "colab": {
      "name": "Web_Scraping_Project.ipynb",
      "provenance": []
    }
  },
  "cells": [
    {
      "cell_type": "code",
      "metadata": {
        "colab": {
          "base_uri": "https://localhost:8080/"
        },
        "id": "MaQapIvVqpEF",
        "outputId": "a49fc163-64c7-4292-999f-24c71459b225"
      },
      "source": [
        "# Jovian Commit Essentials\n",
        "# Please retain and execute this cell without modifying the contents for `jovian.commit` to work\n",
        "!pip install jovian --upgrade -q\n",
        "import jovian\n",
        "jovian.set_project('web-scraping-05678')\n",
        "jovian.set_colab_id('1zZ1LjF2yw5OpiRNGIsYw2xJrT7uDkkF6')"
      ],
      "execution_count": 1,
      "outputs": [
        {
          "output_type": "stream",
          "name": "stdout",
          "text": [
            "\u001b[?25l\r\u001b[K     |████▊                           | 10 kB 28.9 MB/s eta 0:00:01\r\u001b[K     |█████████▌                      | 20 kB 31.3 MB/s eta 0:00:01\r\u001b[K     |██████████████▎                 | 30 kB 19.5 MB/s eta 0:00:01\r\u001b[K     |███████████████████             | 40 kB 15.9 MB/s eta 0:00:01\r\u001b[K     |███████████████████████▉        | 51 kB 8.1 MB/s eta 0:00:01\r\u001b[K     |████████████████████████████▋   | 61 kB 7.9 MB/s eta 0:00:01\r\u001b[K     |████████████████████████████████| 68 kB 4.2 MB/s \n",
            "\u001b[?25h  Building wheel for uuid (setup.py) ... \u001b[?25l\u001b[?25hdone\n"
          ]
        }
      ]
    },
    {
      "cell_type": "markdown",
      "metadata": {
        "id": "0q2D4KitqpEX"
      },
      "source": [
        "# web-scraping\n",
        "\n",
        "Use the \"Run\" button to execute the code."
      ]
    },
    {
      "cell_type": "code",
      "metadata": {
        "id": "F5IKAYA_qpEi"
      },
      "source": [
        "!pip install jovian --upgrade --quiet"
      ],
      "execution_count": 2,
      "outputs": []
    },
    {
      "cell_type": "code",
      "metadata": {
        "id": "RoptOP1qqpEm"
      },
      "source": [
        "import jovian"
      ],
      "execution_count": 3,
      "outputs": []
    },
    {
      "cell_type": "code",
      "metadata": {
        "colab": {
          "base_uri": "https://localhost:8080/",
          "height": 122
        },
        "id": "xXvr13h1qpEq",
        "outputId": "cb06ad20-a084-46a5-a1f7-b8f855f4e2f8"
      },
      "source": [
        "# Execute this to save new versions of the notebook\n",
        "jovian.commit(project=\"web-scraping\")"
      ],
      "execution_count": 4,
      "outputs": [
        {
          "output_type": "stream",
          "name": "stdout",
          "text": [
            "[jovian] Detected Colab notebook...\u001b[0m\n",
            "[jovian] Please enter your API key ( from https://jovian.ai/ ):\u001b[0m\n",
            "API KEY: ··········\n",
            "[jovian] Uploading colab notebook to Jovian...\u001b[0m\n",
            "Committed successfully! https://jovian.ai/victoradejumo2/web-scraping\n"
          ]
        },
        {
          "output_type": "execute_result",
          "data": {
            "application/vnd.google.colaboratory.intrinsic+json": {
              "type": "string"
            },
            "text/plain": [
              "'https://jovian.ai/victoradejumo2/web-scraping'"
            ]
          },
          "metadata": {},
          "execution_count": 4
        }
      ]
    },
    {
      "cell_type": "code",
      "metadata": {
        "colab": {
          "base_uri": "https://localhost:8080/"
        },
        "id": "eLVU5YBDr-Uq",
        "outputId": "7bcb4afa-3a0d-413d-b16b-119c8ada8687"
      },
      "source": [
        "from google.colab import drive\n",
        "drive.mount('/content/drive')"
      ],
      "execution_count": 5,
      "outputs": [
        {
          "output_type": "stream",
          "name": "stdout",
          "text": [
            "Mounted at /content/drive\n"
          ]
        }
      ]
    },
    {
      "cell_type": "code",
      "metadata": {
        "id": "KK8M3YnsqpEs"
      },
      "source": [
        "import requests\n",
        "from bs4 import BeautifulSoup\n",
        "import pandas as pd\n",
        "import json"
      ],
      "execution_count": 10,
      "outputs": []
    },
    {
      "cell_type": "markdown",
      "metadata": {
        "id": "BI5b3y0jwBka"
      },
      "source": [
        "## This project is to scrape the website of **Verve Coffee Roasters** to have all the information about the products they have and are available. The end results will be exported to a csv file"
      ]
    },
    {
      "cell_type": "code",
      "metadata": {
        "id": "u-L7kSTb2HoW"
      },
      "source": [
        "#Getting the site and converting it to json file\n",
        "url = \"https://www.vervecoffee.com/collections/all-coffee/products.json\"\n",
        "\n",
        "my_requests = requests.get(url)\n",
        "\n",
        "data = my_requests.json()"
      ],
      "execution_count": null,
      "outputs": []
    },
    {
      "cell_type": "code",
      "metadata": {
        "colab": {
          "base_uri": "https://localhost:8080/"
        },
        "id": "vO6DxjKlEVXH",
        "outputId": "16d09b3b-353a-4882-ff0f-a830a6b7a63c"
      },
      "source": [
        "# Getting the data from the json file\n",
        "product_list = [\n",
        "                \n",
        "]\n",
        "\n",
        "for item in data[\"products\"]:\n",
        "   id = item[\"id\"]\n",
        "   title = item[\"title\"]\n",
        "   published_date = item[\"published_at\"]\n",
        "   product_type = item[\"product_type\"]\n",
        "\n",
        "  #  print(id, title, published_date, product_type)\n",
        "\n",
        "    #getting the variants information. The variant information is a subset of the products dictionary\n",
        "   for items in item[\"variants\"]:\n",
        "     variant_id = items[\"product_id\"]\n",
        "     variant_title = items[\"title\"]\n",
        "     variant_sku = items[\"sku\"]\n",
        "     variant_price = items[\"price\"]\n",
        "     variant_available = items[\"available\"]\n",
        "     variant_created = items[\"created_at\"]\n",
        "     variant_updated = items[\"updated_at\"]\n",
        "     variant_compare_at_price = items[\"compare_at_price\"]\n",
        "\n",
        "     product = {\n",
        "         \"ID\": id,\n",
        "         \"Title\": title,\n",
        "         \"Published Date\": published_date,\n",
        "         \"Product Type\": product_type,\n",
        "         \"Product ID\": variant_id,\n",
        "         \"Product Title\": variant_title,\n",
        "         \"SKU\": variant_sku,\n",
        "         \"Price\": variant_price,\n",
        "         \"Available\": variant_available,\n",
        "         \"Created At\": variant_created,\n",
        "         \"Updated  At\": variant_updated,\n",
        "         \"Compare At Price\": variant_compare_at_price\n",
        "     }\n",
        "\n",
        "     product_list.append(product)\n",
        "\n",
        "print(product_list)"
      ],
      "execution_count": 46,
      "outputs": [
        {
          "output_type": "stream",
          "name": "stdout",
          "text": [
            "[{'ID': 4511716835411, 'Title': 'La Leona', 'Published Date': '2021-07-30T07:57:31-07:00', 'Product Type': 'Coffee', 'Product ID': 4511716835411, 'Product Title': '12 oz. / Whole Bean', 'SKU': '1320920-0302100', 'Price': '20.50', 'Available': True, 'Created At': '2020-07-24T11:50:47-07:00', 'Updated  At': '2021-09-03T00:04:55-07:00', 'Compare At Price': None}, {'ID': 4511716835411, 'Title': 'La Leona', 'Published Date': '2021-07-30T07:57:31-07:00', 'Product Type': 'Coffee', 'Product ID': 4511716835411, 'Product Title': '12 oz. / Drip / Medium', 'SKU': '1320920-0304100', 'Price': '20.50', 'Available': True, 'Created At': '2020-07-24T11:50:47-07:00', 'Updated  At': '2021-08-31T20:24:10-07:00', 'Compare At Price': None}, {'ID': 4511716835411, 'Title': 'La Leona', 'Published Date': '2021-07-30T07:57:31-07:00', 'Product Type': 'Coffee', 'Product ID': 4511716835411, 'Product Title': '1 Kilo / Whole Bean', 'SKU': '1321120-0502100', 'Price': '58.00', 'Available': True, 'Created At': '2020-07-24T11:50:47-07:00', 'Updated  At': '2021-09-02T21:03:55-07:00', 'Compare At Price': None}, {'ID': 4511716835411, 'Title': 'La Leona', 'Published Date': '2021-07-30T07:57:31-07:00', 'Product Type': 'Coffee', 'Product ID': 4511716835411, 'Product Title': '1 Kilo / Drip / Medium', 'SKU': '1321120-0504100', 'Price': '58.00', 'Available': True, 'Created At': '2020-07-24T11:50:47-07:00', 'Updated  At': '2021-09-02T05:44:20-07:00', 'Compare At Price': None}, {'ID': 4511716835411, 'Title': 'La Leona', 'Published Date': '2021-07-30T07:57:31-07:00', 'Product Type': 'Coffee', 'Product ID': 4511716835411, 'Product Title': '5 lbs. (SAVE 15%) / Whole Bean', 'SKU': '1321220-0602100', 'Price': '115.60', 'Available': True, 'Created At': '2020-07-24T11:50:47-07:00', 'Updated  At': '2021-09-02T05:13:21-07:00', 'Compare At Price': '136.00'}, {'ID': 4511716835411, 'Title': 'La Leona', 'Published Date': '2021-07-30T07:57:31-07:00', 'Product Type': 'Coffee', 'Product ID': 4511716835411, 'Product Title': '5 lbs. (SAVE 15%) / Drip / Medium', 'SKU': '1321220-0604100', 'Price': '115.60', 'Available': True, 'Created At': '2020-07-24T11:50:47-07:00', 'Updated  At': '2021-07-29T15:29:14-07:00', 'Compare At Price': '136.00'}, {'ID': 6585469730899, 'Title': 'Bishan Dimo', 'Published Date': '2021-07-30T07:57:34-07:00', 'Product Type': 'Coffee', 'Product ID': 6585469730899, 'Product Title': '12 oz. / Whole Bean', 'SKU': '1332521-0302100', 'Price': '20.75', 'Available': True, 'Created At': '2021-07-06T11:58:23-07:00', 'Updated  At': '2021-09-02T23:36:06-07:00', 'Compare At Price': None}, {'ID': 6585469730899, 'Title': 'Bishan Dimo', 'Published Date': '2021-07-30T07:57:34-07:00', 'Product Type': 'Coffee', 'Product ID': 6585469730899, 'Product Title': '12 oz. / Drip / Medium', 'SKU': '1332521-0304100', 'Price': '20.75', 'Available': True, 'Created At': '2021-07-06T11:58:23-07:00', 'Updated  At': '2021-08-31T20:24:10-07:00', 'Compare At Price': None}, {'ID': 6585469730899, 'Title': 'Bishan Dimo', 'Published Date': '2021-07-30T07:57:34-07:00', 'Product Type': 'Coffee', 'Product ID': 6585469730899, 'Product Title': '1 Kilo / Whole Bean', 'SKU': '1332521-0502100', 'Price': '59.00', 'Available': True, 'Created At': '2021-07-06T11:58:23-07:00', 'Updated  At': '2021-09-01T15:56:55-07:00', 'Compare At Price': None}, {'ID': 6585469730899, 'Title': 'Bishan Dimo', 'Published Date': '2021-07-30T07:57:34-07:00', 'Product Type': 'Coffee', 'Product ID': 6585469730899, 'Product Title': '1 Kilo / Drip / Medium', 'SKU': '1332521-0504100', 'Price': '59.00', 'Available': True, 'Created At': '2021-07-06T11:58:23-07:00', 'Updated  At': '2021-07-29T10:38:04-07:00', 'Compare At Price': None}, {'ID': 6585469730899, 'Title': 'Bishan Dimo', 'Published Date': '2021-07-30T07:57:34-07:00', 'Product Type': 'Coffee', 'Product ID': 6585469730899, 'Product Title': '5 lbs. (SAVE 15%) / Whole Bean', 'SKU': '1332521-0602100', 'Price': '117.30', 'Available': True, 'Created At': '2021-07-06T11:58:23-07:00', 'Updated  At': '2021-08-31T08:47:20-07:00', 'Compare At Price': '138.00'}, {'ID': 6585469730899, 'Title': 'Bishan Dimo', 'Published Date': '2021-07-30T07:57:34-07:00', 'Product Type': 'Coffee', 'Product ID': 6585469730899, 'Product Title': '5 lbs. (SAVE 15%) / Drip / Medium', 'SKU': '1332521-0604100', 'Price': '117.30', 'Available': True, 'Created At': '2021-07-06T11:58:23-07:00', 'Updated  At': '2021-07-29T10:38:04-07:00', 'Compare At Price': '138.00'}, {'ID': 6585469567059, 'Title': 'Swara', 'Published Date': '2021-07-30T07:57:33-07:00', 'Product Type': 'Coffee', 'Product ID': 6585469567059, 'Product Title': '12 oz. / Whole Bean', 'SKU': '1332621-0302100', 'Price': '21.75', 'Available': True, 'Created At': '2021-07-06T11:57:31-07:00', 'Updated  At': '2021-09-03T00:04:55-07:00', 'Compare At Price': None}, {'ID': 6585469567059, 'Title': 'Swara', 'Published Date': '2021-07-30T07:57:33-07:00', 'Product Type': 'Coffee', 'Product ID': 6585469567059, 'Product Title': '12 oz. / Drip / Medium', 'SKU': '1332621-0304100', 'Price': '21.75', 'Available': True, 'Created At': '2021-07-06T11:57:31-07:00', 'Updated  At': '2021-08-24T08:58:46-07:00', 'Compare At Price': None}, {'ID': 6585469567059, 'Title': 'Swara', 'Published Date': '2021-07-30T07:57:33-07:00', 'Product Type': 'Coffee', 'Product ID': 6585469567059, 'Product Title': '1 Kilo / Whole Bean', 'SKU': '1332621-0502100', 'Price': '62.00', 'Available': True, 'Created At': '2021-07-06T11:57:31-07:00', 'Updated  At': '2021-09-02T09:01:00-07:00', 'Compare At Price': None}, {'ID': 6585469567059, 'Title': 'Swara', 'Published Date': '2021-07-30T07:57:33-07:00', 'Product Type': 'Coffee', 'Product ID': 6585469567059, 'Product Title': '1 Kilo / Drip / Medium', 'SKU': '1332621-0504100', 'Price': '62.00', 'Available': True, 'Created At': '2021-07-06T11:57:31-07:00', 'Updated  At': '2021-08-09T13:52:49-07:00', 'Compare At Price': None}, {'ID': 6585469567059, 'Title': 'Swara', 'Published Date': '2021-07-30T07:57:33-07:00', 'Product Type': 'Coffee', 'Product ID': 6585469567059, 'Product Title': '5 lbs. (SAVE 15%) / Whole Bean', 'SKU': '1332621-0602100', 'Price': '123.30', 'Available': True, 'Created At': '2021-07-06T11:57:31-07:00', 'Updated  At': '2021-08-29T06:54:05-07:00', 'Compare At Price': '145.00'}, {'ID': 6585469567059, 'Title': 'Swara', 'Published Date': '2021-07-30T07:57:33-07:00', 'Product Type': 'Coffee', 'Product ID': 6585469567059, 'Product Title': '5 lbs. (SAVE 15%) / Drip / Medium', 'SKU': '1332621-0604100', 'Price': '123.30', 'Available': True, 'Created At': '2021-07-06T11:57:31-07:00', 'Updated  At': '2021-08-09T13:52:49-07:00', 'Compare At Price': '145.00'}, {'ID': 6581096185939, 'Title': 'Larrea Seasonal Blend Coffee Set', 'Published Date': '2021-08-21T13:12:24-07:00', 'Product Type': 'Coffee', 'Product ID': 6581096185939, 'Product Title': '12 oz. / Whole Bean', 'SKU': '', 'Price': '32.00', 'Available': True, 'Created At': '2021-06-29T11:13:03-07:00', 'Updated  At': '2021-09-02T20:37:25-07:00', 'Compare At Price': '36.50'}, {'ID': 6581096185939, 'Title': 'Larrea Seasonal Blend Coffee Set', 'Published Date': '2021-08-21T13:12:24-07:00', 'Product Type': 'Coffee', 'Product ID': 6581096185939, 'Product Title': '12 oz. / Drip / Medium', 'SKU': '', 'Price': '32.00', 'Available': True, 'Created At': '2021-06-29T11:13:03-07:00', 'Updated  At': '2021-08-31T15:13:50-07:00', 'Compare At Price': '36.50'}, {'ID': 4509429465171, 'Title': 'Larrea Blend', 'Published Date': '2021-07-02T07:14:11-07:00', 'Product Type': 'Coffee', 'Product ID': 4509429465171, 'Product Title': '12 oz. / Whole Bean', 'SKU': '1210120-0302100', 'Price': '19.50', 'Available': True, 'Created At': '2020-07-21T11:51:17-07:00', 'Updated  At': '2021-09-02T15:43:06-07:00', 'Compare At Price': None}, {'ID': 4509429465171, 'Title': 'Larrea Blend', 'Published Date': '2021-07-02T07:14:11-07:00', 'Product Type': 'Coffee', 'Product ID': 4509429465171, 'Product Title': '12 oz. / Drip / Medium', 'SKU': '1210308-0304100', 'Price': '19.50', 'Available': True, 'Created At': '2020-07-21T11:51:17-07:00', 'Updated  At': '2021-09-02T22:37:46-07:00', 'Compare At Price': None}, {'ID': 4509429465171, 'Title': 'Larrea Blend', 'Published Date': '2021-07-02T07:14:11-07:00', 'Product Type': 'Coffee', 'Product ID': 4509429465171, 'Product Title': '1 Kilo / Whole Bean', 'SKU': '1210520-0502100', 'Price': '55.00', 'Available': True, 'Created At': '2020-07-21T11:51:17-07:00', 'Updated  At': '2021-08-30T10:03:16-07:00', 'Compare At Price': None}, {'ID': 4509429465171, 'Title': 'Larrea Blend', 'Published Date': '2021-07-02T07:14:11-07:00', 'Product Type': 'Coffee', 'Product ID': 4509429465171, 'Product Title': '1 Kilo / Drip / Medium', 'SKU': '1210520-0504100', 'Price': '55.00', 'Available': True, 'Created At': '2020-07-21T11:51:17-07:00', 'Updated  At': '2021-09-02T05:44:20-07:00', 'Compare At Price': None}, {'ID': 4509429465171, 'Title': 'Larrea Blend', 'Published Date': '2021-07-02T07:14:11-07:00', 'Product Type': 'Coffee', 'Product ID': 4509429465171, 'Product Title': '5 lbs. (SAVE 15%) / Whole Bean', 'SKU': '1210620-0602100', 'Price': '110.50', 'Available': True, 'Created At': '2020-07-21T11:51:17-07:00', 'Updated  At': '2021-08-30T10:24:26-07:00', 'Compare At Price': '130.00'}, {'ID': 4509429465171, 'Title': 'Larrea Blend', 'Published Date': '2021-07-02T07:14:11-07:00', 'Product Type': 'Coffee', 'Product ID': 4509429465171, 'Product Title': '5 lbs. (SAVE 15%) / Drip / Medium', 'SKU': '1210620-0604100', 'Price': '110.50', 'Available': True, 'Created At': '2020-07-21T11:51:17-07:00', 'Updated  At': '2021-08-12T21:54:01-07:00', 'Compare At Price': '130.00'}, {'ID': 6544594829395, 'Title': 'Larrea Blend Instant Craft Coffee', 'Published Date': '2021-07-02T07:14:13-07:00', 'Product Type': 'Coffee', 'Product ID': 6544594829395, 'Product Title': 'Default Title', 'SKU': '4210221-0902100', 'Price': '17.00', 'Available': True, 'Created At': '2021-03-25T09:30:03-07:00', 'Updated  At': '2021-09-02T11:39:50-07:00', 'Compare At Price': None}, {'ID': 6544860414035, 'Title': 'La Candelaria', 'Published Date': '2021-06-04T07:57:50-07:00', 'Product Type': 'Coffee', 'Product ID': 6544860414035, 'Product Title': '12 oz. / Whole Bean', 'SKU': '1322121-0302100', 'Price': '19.50', 'Available': True, 'Created At': '2021-03-16T11:54:09-07:00', 'Updated  At': '2021-09-02T19:26:41-07:00', 'Compare At Price': None}, {'ID': 6544860414035, 'Title': 'La Candelaria', 'Published Date': '2021-06-04T07:57:50-07:00', 'Product Type': 'Coffee', 'Product ID': 6544860414035, 'Product Title': '12 oz. / Drip / Medium', 'SKU': '1322121-0304100', 'Price': '19.50', 'Available': True, 'Created At': '2021-03-16T11:54:09-07:00', 'Updated  At': '2021-09-01T20:34:02-07:00', 'Compare At Price': None}, {'ID': 6544860414035, 'Title': 'La Candelaria', 'Published Date': '2021-06-04T07:57:50-07:00', 'Product Type': 'Coffee', 'Product ID': 6544860414035, 'Product Title': '1 Kilo / Whole Bean', 'SKU': '1322121-0502100', 'Price': '55.00', 'Available': True, 'Created At': '2021-03-16T11:54:09-07:00', 'Updated  At': '2021-09-01T17:47:11-07:00', 'Compare At Price': None}, {'ID': 6544860414035, 'Title': 'La Candelaria', 'Published Date': '2021-06-04T07:57:50-07:00', 'Product Type': 'Coffee', 'Product ID': 6544860414035, 'Product Title': '1 Kilo / Drip / Medium', 'SKU': '1322121-0504100', 'Price': '55.00', 'Available': True, 'Created At': '2021-03-16T11:54:09-07:00', 'Updated  At': '2021-08-16T16:50:26-07:00', 'Compare At Price': None}, {'ID': 6544860414035, 'Title': 'La Candelaria', 'Published Date': '2021-06-04T07:57:50-07:00', 'Product Type': 'Coffee', 'Product ID': 6544860414035, 'Product Title': '5 lbs. (SAVE 15%) / Whole Bean', 'SKU': '1322121-0602100', 'Price': '110.50', 'Available': True, 'Created At': '2021-03-16T11:54:09-07:00', 'Updated  At': '2021-09-02T19:12:26-07:00', 'Compare At Price': '130.00'}, {'ID': 6544860414035, 'Title': 'La Candelaria', 'Published Date': '2021-06-04T07:57:50-07:00', 'Product Type': 'Coffee', 'Product ID': 6544860414035, 'Product Title': '5 lbs. (SAVE 15%) / Drip / Medium', 'SKU': '1322121-0604100', 'Price': '110.50', 'Available': True, 'Created At': '2021-03-16T11:54:09-07:00', 'Updated  At': '2021-08-13T06:40:55-07:00', 'Compare At Price': '130.00'}, {'ID': 6544862281811, 'Title': 'Guji Highland Natural', 'Published Date': '2021-06-04T07:57:52-07:00', 'Product Type': 'Coffee', 'Product ID': 6544862281811, 'Product Title': '12 oz. / Whole Bean', 'SKU': '1332121-0302100', 'Price': '19.75', 'Available': True, 'Created At': '2021-03-16T11:58:01-07:00', 'Updated  At': '2021-09-02T20:26:35-07:00', 'Compare At Price': None}, {'ID': 6544862281811, 'Title': 'Guji Highland Natural', 'Published Date': '2021-06-04T07:57:52-07:00', 'Product Type': 'Coffee', 'Product ID': 6544862281811, 'Product Title': '12 oz. / Drip / Medium', 'SKU': '1332121-0304100', 'Price': '19.75', 'Available': True, 'Created At': '2021-03-16T11:58:01-07:00', 'Updated  At': '2021-09-02T17:54:40-07:00', 'Compare At Price': None}, {'ID': 6544862281811, 'Title': 'Guji Highland Natural', 'Published Date': '2021-06-04T07:57:52-07:00', 'Product Type': 'Coffee', 'Product ID': 6544862281811, 'Product Title': '1 Kilo / Whole Bean', 'SKU': '1332121-0502100', 'Price': '56.00', 'Available': True, 'Created At': '2021-03-16T11:58:01-07:00', 'Updated  At': '2021-09-01T17:15:21-07:00', 'Compare At Price': None}, {'ID': 6544862281811, 'Title': 'Guji Highland Natural', 'Published Date': '2021-06-04T07:57:52-07:00', 'Product Type': 'Coffee', 'Product ID': 6544862281811, 'Product Title': '1 Kilo / Drip / Medium', 'SKU': '1332121-0504100', 'Price': '56.00', 'Available': True, 'Created At': '2021-03-16T11:58:01-07:00', 'Updated  At': '2021-08-01T09:25:25-07:00', 'Compare At Price': None}, {'ID': 6544862281811, 'Title': 'Guji Highland Natural', 'Published Date': '2021-06-04T07:57:52-07:00', 'Product Type': 'Coffee', 'Product ID': 6544862281811, 'Product Title': '5 lbs. (SAVE 15%) / Whole Bean', 'SKU': '1332121-0602100', 'Price': '111.40', 'Available': True, 'Created At': '2021-03-16T11:58:01-07:00', 'Updated  At': '2021-09-01T09:44:16-07:00', 'Compare At Price': '131.00'}, {'ID': 6544862281811, 'Title': 'Guji Highland Natural', 'Published Date': '2021-06-04T07:57:52-07:00', 'Product Type': 'Coffee', 'Product ID': 6544862281811, 'Product Title': '5 lbs. (SAVE 15%) / Drip / Medium', 'SKU': '1332121-0604100', 'Price': '111.40', 'Available': True, 'Created At': '2021-03-16T11:58:01-07:00', 'Updated  At': '2021-07-30T08:32:02-07:00', 'Compare At Price': '131.00'}, {'ID': 5439775237, 'Title': 'Streetlevel', 'Published Date': '2016-04-08T16:54:00-07:00', 'Product Type': 'Coffee', 'Product ID': 5439775237, 'Product Title': '12 oz. / Whole Bean', 'SKU': '1210310-0302100', 'Price': '17.50', 'Available': True, 'Created At': '2016-04-08T16:49:34-07:00', 'Updated  At': '2021-09-02T19:47:30-07:00', 'Compare At Price': None}, {'ID': 5439775237, 'Title': 'Streetlevel', 'Published Date': '2016-04-08T16:54:00-07:00', 'Product Type': 'Coffee', 'Product ID': 5439775237, 'Product Title': '12 oz. / Drip / Medium', 'SKU': '1210310-0304100', 'Price': '17.50', 'Available': True, 'Created At': '2016-04-08T16:49:34-07:00', 'Updated  At': '2021-09-02T15:39:15-07:00', 'Compare At Price': None}, {'ID': 5439775237, 'Title': 'Streetlevel', 'Published Date': '2016-04-08T16:54:00-07:00', 'Product Type': 'Coffee', 'Product ID': 5439775237, 'Product Title': '1 Kilo / Whole Bean', 'SKU': '1210310-0502100', 'Price': '51.00', 'Available': True, 'Created At': '2016-04-08T16:49:34-07:00', 'Updated  At': '2021-09-02T10:02:26-07:00', 'Compare At Price': None}, {'ID': 5439775237, 'Title': 'Streetlevel', 'Published Date': '2016-04-08T16:54:00-07:00', 'Product Type': 'Coffee', 'Product ID': 5439775237, 'Product Title': '1 Kilo / Drip / Medium', 'SKU': '1210310-0504100', 'Price': '51.00', 'Available': True, 'Created At': '2016-04-08T16:49:34-07:00', 'Updated  At': '2021-08-21T16:41:55-07:00', 'Compare At Price': None}, {'ID': 5439775237, 'Title': 'Streetlevel', 'Published Date': '2016-04-08T16:54:00-07:00', 'Product Type': 'Coffee', 'Product ID': 5439775237, 'Product Title': '5 lbs. (SAVE 15%) / Whole Bean', 'SKU': '1210310-0602100', 'Price': '99.03', 'Available': True, 'Created At': '2016-04-08T16:49:34-07:00', 'Updated  At': '2021-09-02T16:52:55-07:00', 'Compare At Price': '116.50'}, {'ID': 5439775237, 'Title': 'Streetlevel', 'Published Date': '2016-04-08T16:54:00-07:00', 'Product Type': 'Coffee', 'Product ID': 5439775237, 'Product Title': '5 lbs. (SAVE 15%) / Drip / Medium', 'SKU': '1210310-0604100', 'Price': '99.03', 'Available': True, 'Created At': '2016-04-08T16:49:34-07:00', 'Updated  At': '2021-08-16T09:41:55-07:00', 'Compare At Price': '116.50'}, {'ID': 139568414738, 'Title': 'Sermon', 'Published Date': '2018-02-19T08:31:08-08:00', 'Product Type': 'Coffee', 'Product ID': 139568414738, 'Product Title': '12 oz. / Whole Bean', 'SKU': '1210413-0302100', 'Price': '17.50', 'Available': True, 'Created At': '2018-01-14T10:43:07-08:00', 'Updated  At': '2021-09-02T23:27:03-07:00', 'Compare At Price': None}, {'ID': 139568414738, 'Title': 'Sermon', 'Published Date': '2018-02-19T08:31:08-08:00', 'Product Type': 'Coffee', 'Product ID': 139568414738, 'Product Title': '12 oz. / Drip / Medium', 'SKU': '1210413-0304100', 'Price': '17.50', 'Available': True, 'Created At': '2018-01-14T10:43:07-08:00', 'Updated  At': '2021-09-02T15:26:15-07:00', 'Compare At Price': None}, {'ID': 139568414738, 'Title': 'Sermon', 'Published Date': '2018-02-19T08:31:08-08:00', 'Product Type': 'Coffee', 'Product ID': 139568414738, 'Product Title': '1 Kilo / Whole Bean', 'SKU': '1210413-0502100', 'Price': '51.00', 'Available': True, 'Created At': '2018-01-14T10:43:07-08:00', 'Updated  At': '2021-09-02T15:31:55-07:00', 'Compare At Price': None}, {'ID': 139568414738, 'Title': 'Sermon', 'Published Date': '2018-02-19T08:31:08-08:00', 'Product Type': 'Coffee', 'Product ID': 139568414738, 'Product Title': '1 Kilo / Drip / Medium', 'SKU': '1210413-0504100', 'Price': '51.00', 'Available': True, 'Created At': '2018-01-14T10:43:07-08:00', 'Updated  At': '2021-08-29T05:20:16-07:00', 'Compare At Price': None}, {'ID': 139568414738, 'Title': 'Sermon', 'Published Date': '2018-02-19T08:31:08-08:00', 'Product Type': 'Coffee', 'Product ID': 139568414738, 'Product Title': '5 lbs. (SAVE 15%) / Whole Bean', 'SKU': '1210413-0602100', 'Price': '99.03', 'Available': True, 'Created At': '2018-01-14T10:43:07-08:00', 'Updated  At': '2021-09-02T07:41:31-07:00', 'Compare At Price': '116.50'}, {'ID': 139568414738, 'Title': 'Sermon', 'Published Date': '2018-02-19T08:31:08-08:00', 'Product Type': 'Coffee', 'Product ID': 139568414738, 'Product Title': '5 lbs. (SAVE 15%) / Drip / Medium', 'SKU': '1210413-0604100', 'Price': '99.03', 'Available': True, 'Created At': '2018-01-14T10:43:07-08:00', 'Updated  At': '2021-08-22T15:19:11-07:00', 'Compare At Price': '116.50'}, {'ID': 9255082, 'Title': 'The 1950', 'Published Date': '2009-10-05T01:38:00-07:00', 'Product Type': 'Coffee', 'Product ID': 9255082, 'Product Title': '12 oz. / Whole Bean', 'SKU': '1210509-0302100', 'Price': '18.00', 'Available': True, 'Created At': '2009-09-21T23:09:37-07:00', 'Updated  At': '2021-09-02T17:05:11-07:00', 'Compare At Price': None}, {'ID': 9255082, 'Title': 'The 1950', 'Published Date': '2009-10-05T01:38:00-07:00', 'Product Type': 'Coffee', 'Product ID': 9255082, 'Product Title': '12 oz. / Drip / Medium', 'SKU': '1210509-0304100', 'Price': '18.00', 'Available': True, 'Created At': '2009-10-02T14:31:09-07:00', 'Updated  At': '2021-09-02T18:56:46-07:00', 'Compare At Price': None}, {'ID': 9255082, 'Title': 'The 1950', 'Published Date': '2009-10-05T01:38:00-07:00', 'Product Type': 'Coffee', 'Product ID': 9255082, 'Product Title': '1 Kilo / Whole Bean', 'SKU': '1210509-0502100', 'Price': '48.50', 'Available': True, 'Created At': '2012-09-11T15:00:46-07:00', 'Updated  At': '2021-09-01T16:28:45-07:00', 'Compare At Price': None}, {'ID': 9255082, 'Title': 'The 1950', 'Published Date': '2009-10-05T01:38:00-07:00', 'Product Type': 'Coffee', 'Product ID': 9255082, 'Product Title': '1 Kilo / Drip / Medium', 'SKU': '1210509-0504100', 'Price': '48.50', 'Available': True, 'Created At': '2017-09-21T12:11:13-07:00', 'Updated  At': '2021-09-02T04:11:11-07:00', 'Compare At Price': None}, {'ID': 9255082, 'Title': 'The 1950', 'Published Date': '2009-10-05T01:38:00-07:00', 'Product Type': 'Coffee', 'Product ID': 9255082, 'Product Title': '5 lbs. (SAVE 15%) / Whole Bean', 'SKU': '1210509-0602100', 'Price': '102.00', 'Available': True, 'Created At': '2011-02-16T14:57:58-08:00', 'Updated  At': '2021-09-02T12:28:50-07:00', 'Compare At Price': '120.00'}, {'ID': 9255082, 'Title': 'The 1950', 'Published Date': '2009-10-05T01:38:00-07:00', 'Product Type': 'Coffee', 'Product ID': 9255082, 'Product Title': '5 lbs. (SAVE 15%) / Drip / Medium', 'SKU': '1210509-0604100', 'Price': '102.00', 'Available': True, 'Created At': '2017-09-21T12:13:23-07:00', 'Updated  At': '2021-08-18T09:26:35-07:00', 'Compare At Price': '120.00'}, {'ID': 35899122, 'Title': 'Buena Vista Dark Roast', 'Published Date': '2011-03-17T12:41:00-07:00', 'Product Type': 'Coffee', 'Product ID': 35899122, 'Product Title': '12 oz. / Whole Bean', 'SKU': '1210110-0302100', 'Price': '16.50', 'Available': True, 'Created At': '2009-09-21T23:09:37-07:00', 'Updated  At': '2021-09-02T21:44:25-07:00', 'Compare At Price': None}, {'ID': 35899122, 'Title': 'Buena Vista Dark Roast', 'Published Date': '2011-03-17T12:41:00-07:00', 'Product Type': 'Coffee', 'Product ID': 35899122, 'Product Title': '12 oz. / Drip / Medium', 'SKU': '1210110-0304100', 'Price': '16.50', 'Available': True, 'Created At': '2009-10-02T14:31:09-07:00', 'Updated  At': '2021-09-02T10:46:46-07:00', 'Compare At Price': None}, {'ID': 35899122, 'Title': 'Buena Vista Dark Roast', 'Published Date': '2011-03-17T12:41:00-07:00', 'Product Type': 'Coffee', 'Product ID': 35899122, 'Product Title': '1 Kilo / Whole Bean', 'SKU': '1210110-0502100', 'Price': '48.00', 'Available': True, 'Created At': '2012-09-11T15:08:43-07:00', 'Updated  At': '2021-09-02T15:05:47-07:00', 'Compare At Price': None}, {'ID': 35899122, 'Title': 'Buena Vista Dark Roast', 'Published Date': '2011-03-17T12:41:00-07:00', 'Product Type': 'Coffee', 'Product ID': 35899122, 'Product Title': '1 Kilo / Drip / Medium', 'SKU': '1210110-0504100', 'Price': '48.00', 'Available': True, 'Created At': '2017-09-21T12:38:53-07:00', 'Updated  At': '2021-08-30T10:13:48-07:00', 'Compare At Price': None}, {'ID': 35899122, 'Title': 'Buena Vista Dark Roast', 'Published Date': '2011-03-17T12:41:00-07:00', 'Product Type': 'Coffee', 'Product ID': 35899122, 'Product Title': '5 lbs. (SAVE 15%) / Whole Bean', 'SKU': '1210110-0602100', 'Price': '93.50', 'Available': True, 'Created At': '2011-02-16T14:57:58-08:00', 'Updated  At': '2021-09-02T07:28:52-07:00', 'Compare At Price': '110.00'}, {'ID': 35899122, 'Title': 'Buena Vista Dark Roast', 'Published Date': '2011-03-17T12:41:00-07:00', 'Product Type': 'Coffee', 'Product ID': 35899122, 'Product Title': '5 lbs. (SAVE 15%) / Drip / Medium', 'SKU': '1210110-0604100', 'Price': '93.50', 'Available': True, 'Created At': '2017-09-21T12:44:34-07:00', 'Updated  At': '2021-08-27T20:35:55-07:00', 'Compare At Price': '110.00'}, {'ID': 8536594386, 'Title': 'Seabright House Blend', 'Published Date': '2016-11-28T14:26:00-08:00', 'Product Type': 'Coffee', 'Product ID': 8536594386, 'Product Title': '12 oz. / Whole Bean', 'SKU': '1210210-0302100', 'Price': '17.00', 'Available': True, 'Created At': '2016-11-28T14:11:26-08:00', 'Updated  At': '2021-09-02T13:53:50-07:00', 'Compare At Price': None}, {'ID': 8536594386, 'Title': 'Seabright House Blend', 'Published Date': '2016-11-28T14:26:00-08:00', 'Product Type': 'Coffee', 'Product ID': 8536594386, 'Product Title': '12 oz. / Drip / Medium', 'SKU': '1210210-0304100', 'Price': '17.00', 'Available': True, 'Created At': '2016-11-28T14:11:26-08:00', 'Updated  At': '2021-09-02T05:44:20-07:00', 'Compare At Price': None}, {'ID': 8536594386, 'Title': 'Seabright House Blend', 'Published Date': '2016-11-28T14:26:00-08:00', 'Product Type': 'Coffee', 'Product ID': 8536594386, 'Product Title': '1 Kilo / Whole Bean', 'SKU': '1210210-0502100', 'Price': '49.50', 'Available': True, 'Created At': '2016-11-28T14:11:26-08:00', 'Updated  At': '2021-08-31T12:53:30-07:00', 'Compare At Price': None}, {'ID': 8536594386, 'Title': 'Seabright House Blend', 'Published Date': '2016-11-28T14:26:00-08:00', 'Product Type': 'Coffee', 'Product ID': 8536594386, 'Product Title': '1 Kilo / Drip / Medium', 'SKU': '1210210-0504100', 'Price': '49.50', 'Available': True, 'Created At': '2017-09-21T12:33:15-07:00', 'Updated  At': '2021-08-31T15:13:50-07:00', 'Compare At Price': None}, {'ID': 8536594386, 'Title': 'Seabright House Blend', 'Published Date': '2016-11-28T14:26:00-08:00', 'Product Type': 'Coffee', 'Product ID': 8536594386, 'Product Title': '5 lbs. (SAVE 15%) / Whole Bean', 'SKU': '1210210-0602100', 'Price': '96.26', 'Available': True, 'Created At': '2016-11-28T14:11:26-08:00', 'Updated  At': '2021-08-31T15:13:50-07:00', 'Compare At Price': '113.25'}, {'ID': 8536594386, 'Title': 'Seabright House Blend', 'Published Date': '2016-11-28T14:26:00-08:00', 'Product Type': 'Coffee', 'Product ID': 8536594386, 'Product Title': '5 lbs. (SAVE 15%) / Drip / Medium', 'SKU': '1210210-0604100', 'Price': '96.26', 'Available': True, 'Created At': '2017-09-21T12:35:39-07:00', 'Updated  At': '2021-08-12T21:54:02-07:00', 'Compare At Price': '113.25'}, {'ID': 10711359826, 'Title': 'Bronson French Roast', 'Published Date': '2017-09-29T08:00:46-07:00', 'Product Type': 'Coffee', 'Product ID': 10711359826, 'Product Title': '12 oz. / Whole Bean', 'SKU': '1210113-0302100', 'Price': '16.50', 'Available': True, 'Created At': '2017-09-26T16:07:15-07:00', 'Updated  At': '2021-09-01T13:33:16-07:00', 'Compare At Price': None}, {'ID': 10711359826, 'Title': 'Bronson French Roast', 'Published Date': '2017-09-29T08:00:46-07:00', 'Product Type': 'Coffee', 'Product ID': 10711359826, 'Product Title': '12 oz. / Drip / Medium', 'SKU': '1210113-0304100', 'Price': '16.50', 'Available': True, 'Created At': '2017-09-26T16:07:15-07:00', 'Updated  At': '2021-09-02T10:46:46-07:00', 'Compare At Price': None}, {'ID': 10711359826, 'Title': 'Bronson French Roast', 'Published Date': '2017-09-29T08:00:46-07:00', 'Product Type': 'Coffee', 'Product ID': 10711359826, 'Product Title': '1 Kilo / Whole Bean', 'SKU': '1210113-0502100', 'Price': '48.00', 'Available': True, 'Created At': '2017-09-26T16:07:15-07:00', 'Updated  At': '2021-08-31T07:13:15-07:00', 'Compare At Price': None}, {'ID': 10711359826, 'Title': 'Bronson French Roast', 'Published Date': '2017-09-29T08:00:46-07:00', 'Product Type': 'Coffee', 'Product ID': 10711359826, 'Product Title': '1 Kilo / Drip / Medium', 'SKU': '1210113-0504100', 'Price': '48.00', 'Available': True, 'Created At': '2017-09-26T16:26:48-07:00', 'Updated  At': '2021-08-19T06:22:10-07:00', 'Compare At Price': None}, {'ID': 10711359826, 'Title': 'Bronson French Roast', 'Published Date': '2017-09-29T08:00:46-07:00', 'Product Type': 'Coffee', 'Product ID': 10711359826, 'Product Title': '5 lbs. (SAVE 15%) / Whole Bean', 'SKU': '1210113-0602100', 'Price': '93.50', 'Available': True, 'Created At': '2017-09-26T16:07:15-07:00', 'Updated  At': '2021-09-02T18:11:56-07:00', 'Compare At Price': '110.00'}, {'ID': 10711359826, 'Title': 'Bronson French Roast', 'Published Date': '2017-09-29T08:00:46-07:00', 'Product Type': 'Coffee', 'Product ID': 10711359826, 'Product Title': '5 lbs. (SAVE 15%) / Drip / Medium', 'SKU': '1210113-0604100', 'Price': '93.50', 'Available': True, 'Created At': '2017-09-26T16:27:41-07:00', 'Updated  At': '2021-08-12T21:53:12-07:00', 'Compare At Price': '110.00'}, {'ID': 8036891017, 'Title': 'Vancouver Swiss Water Decaf', 'Published Date': '2016-11-21T15:51:00-08:00', 'Product Type': 'Coffee', 'Product ID': 8036891017, 'Product Title': '12 oz. / Whole Bean', 'SKU': '1210108-0302100', 'Price': '17.75', 'Available': True, 'Created At': '2016-10-07T09:22:01-07:00', 'Updated  At': '2021-09-02T21:44:25-07:00', 'Compare At Price': None}, {'ID': 8036891017, 'Title': 'Vancouver Swiss Water Decaf', 'Published Date': '2016-11-21T15:51:00-08:00', 'Product Type': 'Coffee', 'Product ID': 8036891017, 'Product Title': '12 oz. / Drip / Medium', 'SKU': '1210108-0304100', 'Price': '17.75', 'Available': True, 'Created At': '2016-10-07T09:22:01-07:00', 'Updated  At': '2021-08-31T14:41:40-07:00', 'Compare At Price': None}, {'ID': 8036891017, 'Title': 'Vancouver Swiss Water Decaf', 'Published Date': '2016-11-21T15:51:00-08:00', 'Product Type': 'Coffee', 'Product ID': 8036891017, 'Product Title': '1 Kilo / Whole Bean', 'SKU': '1210108-0502100', 'Price': '51.75', 'Available': True, 'Created At': '2016-10-07T09:22:01-07:00', 'Updated  At': '2021-09-02T20:45:25-07:00', 'Compare At Price': None}, {'ID': 8036891017, 'Title': 'Vancouver Swiss Water Decaf', 'Published Date': '2016-11-21T15:51:00-08:00', 'Product Type': 'Coffee', 'Product ID': 8036891017, 'Product Title': '1 Kilo / Drip / Medium', 'SKU': '1210108-0504100', 'Price': '51.75', 'Available': True, 'Created At': '2016-10-07T09:22:01-07:00', 'Updated  At': '2021-08-18T09:26:33-07:00', 'Compare At Price': None}, {'ID': 8036891017, 'Title': 'Vancouver Swiss Water Decaf', 'Published Date': '2016-11-21T15:51:00-08:00', 'Product Type': 'Coffee', 'Product ID': 8036891017, 'Product Title': '5 lbs. (SAVE 15%) / Whole Bean', 'SKU': '1210108-0602100', 'Price': '100.51', 'Available': True, 'Created At': '2016-10-07T09:22:01-07:00', 'Updated  At': '2021-09-02T11:46:16-07:00', 'Compare At Price': '118.25'}, {'ID': 8036891017, 'Title': 'Vancouver Swiss Water Decaf', 'Published Date': '2016-11-21T15:51:00-08:00', 'Product Type': 'Coffee', 'Product ID': 8036891017, 'Product Title': '5 lbs. (SAVE 15%) / Drip / Medium', 'SKU': '1210108-0604100', 'Price': '100.51', 'Available': True, 'Created At': '2016-10-07T09:22:01-07:00', 'Updated  At': '2021-08-18T09:26:39-07:00', 'Compare At Price': '118.25'}, {'ID': 3533597081683, 'Title': 'Streetlevel Instant Craft Coffee', 'Published Date': '2019-12-23T09:26:10-08:00', 'Product Type': 'Coffee', 'Product ID': 3533597081683, 'Product Title': 'Default Title', 'SKU': '4210820-0902100', 'Price': '16.00', 'Available': True, 'Created At': '2019-05-23T10:51:45-07:00', 'Updated  At': '2021-09-02T13:45:32-07:00', 'Compare At Price': None}, {'ID': 4370794741843, 'Title': 'Seabright House Blend Instant Craft Coffee', 'Published Date': '2019-12-24T11:40:51-08:00', 'Product Type': 'Coffee', 'Product ID': 4370794741843, 'Product Title': 'Default Title', 'SKU': '4211120-0902100', 'Price': '16.00', 'Available': True, 'Created At': '2019-12-23T11:34:21-08:00', 'Updated  At': '2021-09-02T21:14:56-07:00', 'Compare At Price': None}, {'ID': 4370781634643, 'Title': 'Buena Vista Dark Roast Instant Craft Coffee', 'Published Date': '2019-12-24T11:40:51-08:00', 'Product Type': 'Coffee', 'Product ID': 4370781634643, 'Product Title': 'Default Title', 'SKU': '4210920-0902100', 'Price': '16.00', 'Available': True, 'Created At': '2019-12-23T10:46:43-08:00', 'Updated  At': '2021-09-02T18:47:55-07:00', 'Compare At Price': None}, {'ID': 4370790514771, 'Title': 'Vancouver Decaf Instant Craft Coffee', 'Published Date': '2019-12-24T11:40:51-08:00', 'Product Type': 'Coffee', 'Product ID': 4370790514771, 'Product Title': 'Default Title', 'SKU': '4211020-0902100', 'Price': '16.00', 'Available': True, 'Created At': '2019-12-23T11:20:01-08:00', 'Updated  At': '2021-09-02T21:44:26-07:00', 'Compare At Price': None}, {'ID': 1334198960211, 'Title': 'Seabright House Dripkit', 'Published Date': '2018-11-09T17:12:39-08:00', 'Product Type': 'Coffee', 'Product ID': 1334198960211, 'Product Title': '5 Pack ($3.50/pack)', 'SKU': '32182700', 'Price': '17.50', 'Available': True, 'Created At': '2019-07-19T16:30:07-07:00', 'Updated  At': '2021-09-02T21:44:25-07:00', 'Compare At Price': None}, {'ID': 1334198960211, 'Title': 'Seabright House Dripkit', 'Published Date': '2018-11-09T17:12:39-08:00', 'Product Type': 'Coffee', 'Product ID': 1334198960211, 'Product Title': '10 Pack ($3.40/pack)', 'SKU': None, 'Price': '34.00', 'Available': True, 'Created At': '2019-07-19T16:33:26-07:00', 'Updated  At': '2021-08-12T10:06:55-07:00', 'Compare At Price': None}, {'ID': 1334198960211, 'Title': 'Seabright House Dripkit', 'Published Date': '2018-11-09T17:12:39-08:00', 'Product Type': 'Coffee', 'Product ID': 1334198960211, 'Product Title': '20 Pack ($3.30/pack)', 'SKU': None, 'Price': '66.00', 'Available': True, 'Created At': '2019-07-19T16:34:09-07:00', 'Updated  At': '2021-08-31T15:13:50-07:00', 'Compare At Price': None}, {'ID': 3533667008595, 'Title': 'Juan Benitez Dripkit', 'Published Date': '2020-11-20T08:48:30-08:00', 'Product Type': 'Coffee', 'Product ID': 3533667008595, 'Product Title': '5 Pack ($3.75/pack)', 'SKU': '4320220-004000000', 'Price': '18.75', 'Available': True, 'Created At': '2019-07-19T16:19:57-07:00', 'Updated  At': '2021-09-02T10:42:35-07:00', 'Compare At Price': None}, {'ID': 3533667008595, 'Title': 'Juan Benitez Dripkit', 'Published Date': '2020-11-20T08:48:30-08:00', 'Product Type': 'Coffee', 'Product ID': 3533667008595, 'Product Title': '10 Pack ($3.60/pack)', 'SKU': '4320320-004000000', 'Price': '36.00', 'Available': True, 'Created At': '2019-07-19T16:20:24-07:00', 'Updated  At': '2021-08-25T10:13:06-07:00', 'Compare At Price': None}, {'ID': 3533667008595, 'Title': 'Juan Benitez Dripkit', 'Published Date': '2020-11-20T08:48:30-08:00', 'Product Type': 'Coffee', 'Product ID': 3533667008595, 'Product Title': '20 Pack ($3.50/pack)', 'SKU': '4320420-004000000', 'Price': '70.00', 'Available': True, 'Created At': '2019-07-19T16:20:39-07:00', 'Updated  At': '2021-08-30T08:41:11-07:00', 'Compare At Price': None}, {'ID': 4369304256595, 'Title': 'Sakaro Dripkit', 'Published Date': '2021-02-12T15:55:33-08:00', 'Product Type': 'Coffee', 'Product ID': 4369304256595, 'Product Title': '5 Pack ($3.75/pack)', 'SKU': None, 'Price': '18.75', 'Available': True, 'Created At': '2019-12-18T16:13:47-08:00', 'Updated  At': '2021-09-02T10:42:35-07:00', 'Compare At Price': None}, {'ID': 4369304256595, 'Title': 'Sakaro Dripkit', 'Published Date': '2021-02-12T15:55:33-08:00', 'Product Type': 'Coffee', 'Product ID': 4369304256595, 'Product Title': '10 Pack ($3.60/pack)', 'SKU': None, 'Price': '36.00', 'Available': True, 'Created At': '2019-12-18T16:13:47-08:00', 'Updated  At': '2021-08-20T10:05:36-07:00', 'Compare At Price': None}, {'ID': 4369304256595, 'Title': 'Sakaro Dripkit', 'Published Date': '2021-02-12T15:55:33-08:00', 'Product Type': 'Coffee', 'Product ID': 4369304256595, 'Product Title': '20 Pack ($3.50/pack)', 'SKU': None, 'Price': '70.00', 'Available': True, 'Created At': '2019-12-18T16:13:47-08:00', 'Updated  At': '2021-08-30T02:21:36-07:00', 'Compare At Price': None}, {'ID': 114689536, 'Title': 'Cascara Coffee Cherry Tea', 'Published Date': '2018-01-25T07:40:32-08:00', 'Product Type': 'Coffee', 'Product ID': 114689536, 'Product Title': 'Default Title', 'SKU': '2410118-1163', 'Price': '15.00', 'Available': True, 'Created At': '2018-01-05T12:00:36-08:00', 'Updated  At': '2021-08-31T17:31:15-07:00', 'Compare At Price': None}]\n"
          ]
        }
      ]
    },
    {
      "cell_type": "code",
      "metadata": {
        "colab": {
          "base_uri": "https://localhost:8080/",
          "height": 469
        },
        "id": "q_h5IFlzSuHr",
        "outputId": "273faa5f-9d64-442b-fdde-2b6b5a558128"
      },
      "source": [
        "df = pd.DataFrame(product_list)\n",
        "df.head()"
      ],
      "execution_count": 48,
      "outputs": [
        {
          "output_type": "execute_result",
          "data": {
            "text/html": [
              "<div>\n",
              "<style scoped>\n",
              "    .dataframe tbody tr th:only-of-type {\n",
              "        vertical-align: middle;\n",
              "    }\n",
              "\n",
              "    .dataframe tbody tr th {\n",
              "        vertical-align: top;\n",
              "    }\n",
              "\n",
              "    .dataframe thead th {\n",
              "        text-align: right;\n",
              "    }\n",
              "</style>\n",
              "<table border=\"1\" class=\"dataframe\">\n",
              "  <thead>\n",
              "    <tr style=\"text-align: right;\">\n",
              "      <th></th>\n",
              "      <th>ID</th>\n",
              "      <th>Title</th>\n",
              "      <th>Published Date</th>\n",
              "      <th>Product Type</th>\n",
              "      <th>Product ID</th>\n",
              "      <th>Product Title</th>\n",
              "      <th>SKU</th>\n",
              "      <th>Price</th>\n",
              "      <th>Available</th>\n",
              "      <th>Created At</th>\n",
              "      <th>Updated  At</th>\n",
              "      <th>Compare At Price</th>\n",
              "    </tr>\n",
              "  </thead>\n",
              "  <tbody>\n",
              "    <tr>\n",
              "      <th>0</th>\n",
              "      <td>4511716835411</td>\n",
              "      <td>La Leona</td>\n",
              "      <td>2021-07-30T07:57:31-07:00</td>\n",
              "      <td>Coffee</td>\n",
              "      <td>4511716835411</td>\n",
              "      <td>12 oz. / Whole Bean</td>\n",
              "      <td>1320920-0302100</td>\n",
              "      <td>20.50</td>\n",
              "      <td>True</td>\n",
              "      <td>2020-07-24T11:50:47-07:00</td>\n",
              "      <td>2021-09-03T00:04:55-07:00</td>\n",
              "      <td>None</td>\n",
              "    </tr>\n",
              "    <tr>\n",
              "      <th>1</th>\n",
              "      <td>4511716835411</td>\n",
              "      <td>La Leona</td>\n",
              "      <td>2021-07-30T07:57:31-07:00</td>\n",
              "      <td>Coffee</td>\n",
              "      <td>4511716835411</td>\n",
              "      <td>12 oz. / Drip / Medium</td>\n",
              "      <td>1320920-0304100</td>\n",
              "      <td>20.50</td>\n",
              "      <td>True</td>\n",
              "      <td>2020-07-24T11:50:47-07:00</td>\n",
              "      <td>2021-08-31T20:24:10-07:00</td>\n",
              "      <td>None</td>\n",
              "    </tr>\n",
              "    <tr>\n",
              "      <th>2</th>\n",
              "      <td>4511716835411</td>\n",
              "      <td>La Leona</td>\n",
              "      <td>2021-07-30T07:57:31-07:00</td>\n",
              "      <td>Coffee</td>\n",
              "      <td>4511716835411</td>\n",
              "      <td>1 Kilo / Whole Bean</td>\n",
              "      <td>1321120-0502100</td>\n",
              "      <td>58.00</td>\n",
              "      <td>True</td>\n",
              "      <td>2020-07-24T11:50:47-07:00</td>\n",
              "      <td>2021-09-02T21:03:55-07:00</td>\n",
              "      <td>None</td>\n",
              "    </tr>\n",
              "    <tr>\n",
              "      <th>3</th>\n",
              "      <td>4511716835411</td>\n",
              "      <td>La Leona</td>\n",
              "      <td>2021-07-30T07:57:31-07:00</td>\n",
              "      <td>Coffee</td>\n",
              "      <td>4511716835411</td>\n",
              "      <td>1 Kilo / Drip / Medium</td>\n",
              "      <td>1321120-0504100</td>\n",
              "      <td>58.00</td>\n",
              "      <td>True</td>\n",
              "      <td>2020-07-24T11:50:47-07:00</td>\n",
              "      <td>2021-09-02T05:44:20-07:00</td>\n",
              "      <td>None</td>\n",
              "    </tr>\n",
              "    <tr>\n",
              "      <th>4</th>\n",
              "      <td>4511716835411</td>\n",
              "      <td>La Leona</td>\n",
              "      <td>2021-07-30T07:57:31-07:00</td>\n",
              "      <td>Coffee</td>\n",
              "      <td>4511716835411</td>\n",
              "      <td>5 lbs. (SAVE 15%) / Whole Bean</td>\n",
              "      <td>1321220-0602100</td>\n",
              "      <td>115.60</td>\n",
              "      <td>True</td>\n",
              "      <td>2020-07-24T11:50:47-07:00</td>\n",
              "      <td>2021-09-02T05:13:21-07:00</td>\n",
              "      <td>136.00</td>\n",
              "    </tr>\n",
              "  </tbody>\n",
              "</table>\n",
              "</div>"
            ],
            "text/plain": [
              "              ID     Title  ...                Updated  At Compare At Price\n",
              "0  4511716835411  La Leona  ...  2021-09-03T00:04:55-07:00             None\n",
              "1  4511716835411  La Leona  ...  2021-08-31T20:24:10-07:00             None\n",
              "2  4511716835411  La Leona  ...  2021-09-02T21:03:55-07:00             None\n",
              "3  4511716835411  La Leona  ...  2021-09-02T05:44:20-07:00             None\n",
              "4  4511716835411  La Leona  ...  2021-09-02T05:13:21-07:00           136.00\n",
              "\n",
              "[5 rows x 12 columns]"
            ]
          },
          "metadata": {},
          "execution_count": 48
        }
      ]
    },
    {
      "cell_type": "code",
      "metadata": {
        "colab": {
          "base_uri": "https://localhost:8080/"
        },
        "id": "oPoK-wplTF1-",
        "outputId": "14a4aace-65fa-48f1-b29a-9a77c909d1d7"
      },
      "source": [
        "df.to_csv(\"/content/drive/MyDrive/verve_coffee.csv\")\n",
        "print(\"done\")"
      ],
      "execution_count": 49,
      "outputs": [
        {
          "output_type": "stream",
          "name": "stdout",
          "text": [
            "done\n"
          ]
        }
      ]
    }
  ]
}